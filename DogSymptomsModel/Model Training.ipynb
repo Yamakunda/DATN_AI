{
 "cells": [
  {
   "cell_type": "code",
   "execution_count": 1,
   "metadata": {
    "id": "jdoNdk1Seuyy"
   },
   "outputs": [],
   "source": [
    "import pandas as pd\n",
    "import numpy as np\n",
    "import matplotlib.pyplot as plt\n",
    "import seaborn as sns\n",
    "\n",
    "from sklearn.model_selection import train_test_split\n",
    "\n",
    "import tensorflow as tf\n",
    "from tensorflow import keras\n",
    "from keras.models import Sequential\n",
    "from keras.layers import Dense, Dropout\n",
    "\n",
    "from sklearn import metrics\n",
    "from sklearn.metrics import f1_score, accuracy_score, recall_score, precision_score\n",
    "from sklearn.metrics import confusion_matrix, classification_report"
   ]
  },
  {
   "cell_type": "code",
   "execution_count": 43,
   "metadata": {
    "colab": {
     "base_uri": "https://localhost:8080/",
     "height": 421
    },
    "id": "xQGG6D-hgmxO",
    "outputId": "5712ad8d-7a00-4904-d2a1-01b3b7acaede"
   },
   "outputs": [
    {
     "data": {
      "text/html": [
       "<div>\n",
       "<style scoped>\n",
       "    .dataframe tbody tr th:only-of-type {\n",
       "        vertical-align: middle;\n",
       "    }\n",
       "\n",
       "    .dataframe tbody tr th {\n",
       "        vertical-align: top;\n",
       "    }\n",
       "\n",
       "    .dataframe thead th {\n",
       "        text-align: right;\n",
       "    }\n",
       "</style>\n",
       "<table border=\"1\" class=\"dataframe\">\n",
       "  <thead>\n",
       "    <tr style=\"text-align: right;\">\n",
       "      <th></th>\n",
       "      <th>Unnamed: 0</th>\n",
       "      <th>Fever</th>\n",
       "      <th>Nasal Discharge</th>\n",
       "      <th>Loss of appetite</th>\n",
       "      <th>Weight Loss</th>\n",
       "      <th>Lameness</th>\n",
       "      <th>Breathing Difficulty</th>\n",
       "      <th>Swollen Lymph nodes</th>\n",
       "      <th>Lethargy</th>\n",
       "      <th>Depression</th>\n",
       "      <th>...</th>\n",
       "      <th>Hepatitis</th>\n",
       "      <th>Tetanus</th>\n",
       "      <th>Chronic kidney Disease</th>\n",
       "      <th>Diabetes</th>\n",
       "      <th>Gastrointestinal Disease</th>\n",
       "      <th>Allergies</th>\n",
       "      <th>Gingitivis</th>\n",
       "      <th>Cancers</th>\n",
       "      <th>Skin Rashes</th>\n",
       "      <th>Disease</th>\n",
       "    </tr>\n",
       "  </thead>\n",
       "  <tbody>\n",
       "    <tr>\n",
       "      <th>0</th>\n",
       "      <td>0</td>\n",
       "      <td>1.0</td>\n",
       "      <td>1.0</td>\n",
       "      <td>0.0</td>\n",
       "      <td>0.0</td>\n",
       "      <td>1.0</td>\n",
       "      <td>0.0</td>\n",
       "      <td>0.0</td>\n",
       "      <td>1.0</td>\n",
       "      <td>0.0</td>\n",
       "      <td>...</td>\n",
       "      <td>0.0</td>\n",
       "      <td>0.0</td>\n",
       "      <td>0.0</td>\n",
       "      <td>0.0</td>\n",
       "      <td>0.0</td>\n",
       "      <td>0.0</td>\n",
       "      <td>0.0</td>\n",
       "      <td>0.0</td>\n",
       "      <td>0.0</td>\n",
       "      <td>Tick fever</td>\n",
       "    </tr>\n",
       "    <tr>\n",
       "      <th>1</th>\n",
       "      <td>1</td>\n",
       "      <td>1.0</td>\n",
       "      <td>0.0</td>\n",
       "      <td>0.0</td>\n",
       "      <td>0.0</td>\n",
       "      <td>1.0</td>\n",
       "      <td>0.0</td>\n",
       "      <td>1.0</td>\n",
       "      <td>0.0</td>\n",
       "      <td>0.0</td>\n",
       "      <td>...</td>\n",
       "      <td>0.0</td>\n",
       "      <td>0.0</td>\n",
       "      <td>0.0</td>\n",
       "      <td>0.0</td>\n",
       "      <td>0.0</td>\n",
       "      <td>0.0</td>\n",
       "      <td>0.0</td>\n",
       "      <td>0.0</td>\n",
       "      <td>0.0</td>\n",
       "      <td>Tick fever</td>\n",
       "    </tr>\n",
       "    <tr>\n",
       "      <th>2</th>\n",
       "      <td>2</td>\n",
       "      <td>1.0</td>\n",
       "      <td>1.0</td>\n",
       "      <td>0.0</td>\n",
       "      <td>0.0</td>\n",
       "      <td>0.0</td>\n",
       "      <td>0.0</td>\n",
       "      <td>1.0</td>\n",
       "      <td>1.0</td>\n",
       "      <td>0.0</td>\n",
       "      <td>...</td>\n",
       "      <td>0.0</td>\n",
       "      <td>0.0</td>\n",
       "      <td>0.0</td>\n",
       "      <td>0.0</td>\n",
       "      <td>0.0</td>\n",
       "      <td>0.0</td>\n",
       "      <td>0.0</td>\n",
       "      <td>0.0</td>\n",
       "      <td>0.0</td>\n",
       "      <td>Tick fever</td>\n",
       "    </tr>\n",
       "    <tr>\n",
       "      <th>3</th>\n",
       "      <td>3</td>\n",
       "      <td>1.0</td>\n",
       "      <td>1.0</td>\n",
       "      <td>0.0</td>\n",
       "      <td>0.0</td>\n",
       "      <td>1.0</td>\n",
       "      <td>0.0</td>\n",
       "      <td>0.0</td>\n",
       "      <td>0.0</td>\n",
       "      <td>0.0</td>\n",
       "      <td>...</td>\n",
       "      <td>0.0</td>\n",
       "      <td>0.0</td>\n",
       "      <td>0.0</td>\n",
       "      <td>0.0</td>\n",
       "      <td>0.0</td>\n",
       "      <td>0.0</td>\n",
       "      <td>0.0</td>\n",
       "      <td>0.0</td>\n",
       "      <td>0.0</td>\n",
       "      <td>Tick fever</td>\n",
       "    </tr>\n",
       "    <tr>\n",
       "      <th>4</th>\n",
       "      <td>4</td>\n",
       "      <td>0.0</td>\n",
       "      <td>1.0</td>\n",
       "      <td>0.0</td>\n",
       "      <td>1.0</td>\n",
       "      <td>0.0</td>\n",
       "      <td>1.0</td>\n",
       "      <td>0.0</td>\n",
       "      <td>0.0</td>\n",
       "      <td>0.0</td>\n",
       "      <td>...</td>\n",
       "      <td>0.0</td>\n",
       "      <td>0.0</td>\n",
       "      <td>0.0</td>\n",
       "      <td>0.0</td>\n",
       "      <td>0.0</td>\n",
       "      <td>0.0</td>\n",
       "      <td>0.0</td>\n",
       "      <td>0.0</td>\n",
       "      <td>0.0</td>\n",
       "      <td>Tick fever</td>\n",
       "    </tr>\n",
       "  </tbody>\n",
       "</table>\n",
       "<p>5 rows × 100 columns</p>\n",
       "</div>"
      ],
      "text/plain": [
       "   Unnamed: 0  Fever  Nasal Discharge  Loss of appetite  Weight Loss  \\\n",
       "0           0    1.0              1.0               0.0          0.0   \n",
       "1           1    1.0              0.0               0.0          0.0   \n",
       "2           2    1.0              1.0               0.0          0.0   \n",
       "3           3    1.0              1.0               0.0          0.0   \n",
       "4           4    0.0              1.0               0.0          1.0   \n",
       "\n",
       "   Lameness  Breathing Difficulty  Swollen Lymph nodes  Lethargy  Depression  \\\n",
       "0       1.0                   0.0                  0.0       1.0         0.0   \n",
       "1       1.0                   0.0                  1.0       0.0         0.0   \n",
       "2       0.0                   0.0                  1.0       1.0         0.0   \n",
       "3       1.0                   0.0                  0.0       0.0         0.0   \n",
       "4       0.0                   1.0                  0.0       0.0         0.0   \n",
       "\n",
       "   ...  Hepatitis  Tetanus  Chronic kidney Disease  Diabetes  \\\n",
       "0  ...        0.0      0.0                     0.0       0.0   \n",
       "1  ...        0.0      0.0                     0.0       0.0   \n",
       "2  ...        0.0      0.0                     0.0       0.0   \n",
       "3  ...        0.0      0.0                     0.0       0.0   \n",
       "4  ...        0.0      0.0                     0.0       0.0   \n",
       "\n",
       "   Gastrointestinal Disease  Allergies  Gingitivis  Cancers  Skin Rashes  \\\n",
       "0                       0.0        0.0         0.0      0.0          0.0   \n",
       "1                       0.0        0.0         0.0      0.0          0.0   \n",
       "2                       0.0        0.0         0.0      0.0          0.0   \n",
       "3                       0.0        0.0         0.0      0.0          0.0   \n",
       "4                       0.0        0.0         0.0      0.0          0.0   \n",
       "\n",
       "      Disease  \n",
       "0  Tick fever  \n",
       "1  Tick fever  \n",
       "2  Tick fever  \n",
       "3  Tick fever  \n",
       "4  Tick fever  \n",
       "\n",
       "[5 rows x 100 columns]"
      ]
     },
     "execution_count": 43,
     "metadata": {},
     "output_type": "execute_result"
    }
   ],
   "source": [
    "df = pd.read_csv('../dataset/pre_processed.csv') # load dataset\n",
    "\n",
    "df.head()"
   ]
  },
  {
   "cell_type": "code",
   "execution_count": 44,
   "metadata": {
    "id": "Q7sz6lhKhPCX"
   },
   "outputs": [],
   "source": [
    "data = df.drop(['Unnamed: 0', 'Disease'], axis=1) # drop unused columns"
   ]
  },
  {
   "cell_type": "code",
   "execution_count": 45,
   "metadata": {
    "id": "p_edDHh8hdKC"
   },
   "outputs": [
    {
     "name": "stdout",
     "output_type": "stream",
     "text": [
      "<class 'pandas.core.frame.DataFrame'>\n",
      "RangeIndex: 23999 entries, 0 to 23998\n",
      "Data columns (total 98 columns):\n",
      " #   Column                             Non-Null Count  Dtype  \n",
      "---  ------                             --------------  -----  \n",
      " 0   Fever                              23999 non-null  float64\n",
      " 1   Nasal Discharge                    23999 non-null  float64\n",
      " 2   Loss of appetite                   23999 non-null  float64\n",
      " 3   Weight Loss                        23999 non-null  float64\n",
      " 4   Lameness                           23999 non-null  float64\n",
      " 5   Breathing Difficulty               23999 non-null  float64\n",
      " 6   Swollen Lymph nodes                23999 non-null  float64\n",
      " 7   Lethargy                           23999 non-null  float64\n",
      " 8   Depression                         23999 non-null  float64\n",
      " 9   Coughing                           23999 non-null  float64\n",
      " 10  Diarrhea                           23999 non-null  float64\n",
      " 11  Seizures                           23999 non-null  float64\n",
      " 12  Vomiting                           23999 non-null  float64\n",
      " 13  Eating less than usual             23999 non-null  float64\n",
      " 14  Excessive Salivation               23999 non-null  float64\n",
      " 15  Redness around Eye area            23999 non-null  float64\n",
      " 16  Severe Dehydration                 23999 non-null  float64\n",
      " 17  Pain                               23999 non-null  float64\n",
      " 18  Discomfort                         23999 non-null  float64\n",
      " 19  Sepsis                             23999 non-null  float64\n",
      " 20  WeightLoss                         23999 non-null  float64\n",
      " 21  Tender abdomen                     23999 non-null  float64\n",
      " 22  Increased drinking and urination   23999 non-null  float64\n",
      " 23  Bloated Stomach                    23999 non-null  float64\n",
      " 24  Yellow gums                        23999 non-null  float64\n",
      " 25  Constipation                       23999 non-null  float64\n",
      " 26  Paralysis                          23999 non-null  float64\n",
      " 27  Wrinkled forehead                  23999 non-null  float64\n",
      " 28  Continuously erect and stiff ears  23999 non-null  float64\n",
      " 29  Grinning appearance                23999 non-null  float64\n",
      " 30  Stiff and hard tail                23999 non-null  float64\n",
      " 31  Stiffness of muscles               23999 non-null  float64\n",
      " 32  Acute blindness                    23999 non-null  float64\n",
      " 33  Blood in urine                     23999 non-null  float64\n",
      " 34  Hunger                             23999 non-null  float64\n",
      " 35  Cataracts                          23999 non-null  float64\n",
      " 36  Losing sight                       23999 non-null  float64\n",
      " 37  Glucose in urine                   23999 non-null  float64\n",
      " 38  Burping                            23999 non-null  float64\n",
      " 39  blood in stools                    23999 non-null  float64\n",
      " 40  Passing gases                      23999 non-null  float64\n",
      " 41  Eating grass                       23999 non-null  float64\n",
      " 42  Scratching                         23999 non-null  float64\n",
      " 43  Licking                            23999 non-null  float64\n",
      " 44  Itchy skin                         23999 non-null  float64\n",
      " 45  Redness of skin                    23999 non-null  float64\n",
      " 46  Face rubbing                       23999 non-null  float64\n",
      " 47  Loss of Fur                        23999 non-null  float64\n",
      " 48  Swelling of gum                    23999 non-null  float64\n",
      " 49  Redness of gum                     23999 non-null  float64\n",
      " 50  Receding gum                       23999 non-null  float64\n",
      " 51  Bleeding of gum                    23999 non-null  float64\n",
      " 52  Plaque                             23999 non-null  float64\n",
      " 53  Bad breath                         23999 non-null  float64\n",
      " 54  Tartar                             23999 non-null  float64\n",
      " 55  Lumps                              23999 non-null  float64\n",
      " 56  Swelling                           23999 non-null  float64\n",
      " 57  Red bumps                          23999 non-null  float64\n",
      " 58  Scabs                              23999 non-null  float64\n",
      " 59  Irritation                         23999 non-null  float64\n",
      " 60  Dry Skin                           23999 non-null  float64\n",
      " 61  Fur loss                           23999 non-null  float64\n",
      " 62  Red patches                        23999 non-null  float64\n",
      " 63  Heart Complication                 23999 non-null  float64\n",
      " 64  Weakness                           23999 non-null  float64\n",
      " 65  Aggression                         23999 non-null  float64\n",
      " 66  Pale gums                          23999 non-null  float64\n",
      " 67  Coma                               23999 non-null  float64\n",
      " 68  Collapse                           23999 non-null  float64\n",
      " 69  Abdominal pain                     23999 non-null  float64\n",
      " 70  Difficulty Urinating               23999 non-null  float64\n",
      " 71  Dandruff                           23999 non-null  float64\n",
      " 72  Anorexia                           23999 non-null  float64\n",
      " 73  Blindness                          23999 non-null  float64\n",
      " 74  excess jaw tone                    23999 non-null  float64\n",
      " 75  Urine infection                    23999 non-null  float64\n",
      " 76  Lack of energy                     23999 non-null  float64\n",
      " 77  Smelly                             23999 non-null  float64\n",
      " 78  Neurological Disorders             23999 non-null  float64\n",
      " 79  Eye Discharge                      23999 non-null  float64\n",
      " 80  Loss of Consciousness              23999 non-null  float64\n",
      " 81  Enlarged Liver                     23999 non-null  float64\n",
      " 82  lethargy                           23999 non-null  float64\n",
      " 83  Purging                            23999 non-null  float64\n",
      " 84  Bloody discharge                   23999 non-null  float64\n",
      " 85  Wounds                             23999 non-null  float64\n",
      " 86  Tick fever                         23999 non-null  float64\n",
      " 87  Distemper                          23999 non-null  float64\n",
      " 88  Parvovirus                         23999 non-null  float64\n",
      " 89  Hepatitis                          23999 non-null  float64\n",
      " 90  Tetanus                            23999 non-null  float64\n",
      " 91  Chronic kidney Disease             23999 non-null  float64\n",
      " 92  Diabetes                           23999 non-null  float64\n",
      " 93  Gastrointestinal Disease           23999 non-null  float64\n",
      " 94  Allergies                          23999 non-null  float64\n",
      " 95  Gingitivis                         23999 non-null  float64\n",
      " 96  Cancers                            23999 non-null  float64\n",
      " 97  Skin Rashes                        23999 non-null  float64\n",
      "dtypes: float64(98)\n",
      "memory usage: 17.9 MB\n"
     ]
    }
   ],
   "source": [
    "data.info()"
   ]
  },
  {
   "cell_type": "code",
   "execution_count": 46,
   "metadata": {
    "id": "9QzVdk3khgW6"
   },
   "outputs": [],
   "source": [
    "# Separate attributes and labels\n",
    "X = data.drop(['Tick fever', 'Distemper', 'Parvovirus',\n",
    "       'Hepatitis', 'Tetanus', 'Chronic kidney Disease', 'Diabetes',\n",
    "       'Gastrointestinal Disease', 'Allergies', 'Gingitivis', 'Cancers',\n",
    "       'Skin Rashes'], axis=1)\n",
    "y = data[['Tick fever', 'Distemper', 'Parvovirus',\n",
    "       'Hepatitis', 'Tetanus', 'Chronic kidney Disease', 'Diabetes',\n",
    "       'Gastrointestinal Disease', 'Allergies', 'Gingitivis', 'Cancers',\n",
    "       'Skin Rashes']]\n"
   ]
  },
  {
   "cell_type": "code",
   "execution_count": 6,
   "metadata": {
    "colab": {
     "base_uri": "https://localhost:8080/"
    },
    "id": "AAxzq3bzifh4",
    "outputId": "7d668ed1-0197-455a-970b-608f4a611c60"
   },
   "outputs": [
    {
     "name": "stdout",
     "output_type": "stream",
     "text": [
      "Length of train set: 14399\n",
      "Length of validation set: 4800\n",
      "Length of test set: 4800\n"
     ]
    }
   ],
   "source": [
    "# Data Splitting\n",
    "\n",
    "# Split data to train, validation, test set\n",
    "X_train_val, X_test, y_train_val, y_test = train_test_split(X, y, test_size=0.2, random_state=42)\n",
    "\n",
    "# Split data to train + validation\n",
    "X_train, X_val, y_train, y_val = train_test_split(X_train_val, y_train_val, test_size=0.25, random_state=42)\n",
    "\n",
    "# Show how many data in each set\n",
    "print(\"Length of train set:\", len(X_train))\n",
    "print(\"Length of validation set:\", len(X_val))\n",
    "print(\"Length of test set:\", len(X_test))"
   ]
  },
  {
   "cell_type": "code",
   "execution_count": 7,
   "metadata": {},
   "outputs": [],
   "source": [
    "# Defining callbacks\n",
    "\n",
    "class myCallback(tf.keras.callbacks.Callback):\n",
    "  #define the correct function signature for on_epoch_end\n",
    "  def on_epoch_end(self, epoch, logs={}):\n",
    "    if (logs.get('accuracy') > 0.998):\n",
    "      print(\"\\nReached 99% accuracy, so cancelling training!\")\n",
    "    \n",
    "      #stop training once the above condition is met\n",
    "      self.model.stop_training = True"
   ]
  },
  {
   "cell_type": "code",
   "execution_count": 17,
   "metadata": {
    "colab": {
     "base_uri": "https://localhost:8080/"
    },
    "id": "zhL2_0UIolXR",
    "outputId": "20ab16c2-f443-4061-c34e-ab9a1509072c"
   },
   "outputs": [],
   "source": [
    "def dog_model(X_train, y_train):\n",
    "    \n",
    "    # Instantiate the callback class\n",
    "    callbacks = myCallback()\n",
    "\n",
    "    # Construct ANN model\n",
    "    model = tf.keras.models.Sequential([\n",
    "        tf.keras.layers.Dense(86, input_shape=(86,), activation='relu'),\n",
    "        tf.keras.layers.Dense(1024, activation='relu'),\n",
    "\n",
    "        tf.keras.layers.Dropout(0.2),\n",
    "        tf.keras.layers.Dense(512, activation='relu'),\n",
    "\n",
    "        tf.keras.layers.Dropout(0.2),\n",
    "        tf.keras.layers.Dense(128, activation='relu'),\n",
    "\n",
    "        tf.keras.layers.Dropout(0.2),\n",
    "        tf.keras.layers.Dense(64, activation='relu'),\n",
    "        tf.keras.layers.Dense(12, activation='softmax')\n",
    "    ])\n",
    "\n",
    "    # Model compiling\n",
    "    model.compile(optimizer=tf.optimizers.Adam(learning_rate=0.0001),\n",
    "              loss='categorical_crossentropy',\n",
    "              metrics=['accuracy'])\n",
    "    # Fit the model for 50 epochs adding the callbacks and save the training history\n",
    "    history = model.fit(X_train,\n",
    "                        y_train,\n",
    "                        batch_size=600,\n",
    "                        epochs=50,\n",
    "                        validation_data=(X_val, y_val),\n",
    "                        callbacks=[callbacks])\n",
    "    model.save('dog_model.h5')\n",
    "    return history"
   ]
  },
  {
   "cell_type": "code",
   "execution_count": 19,
   "metadata": {},
   "outputs": [
    {
     "name": "stderr",
     "output_type": "stream",
     "text": [
      "WARNING:absl:Compiled the loaded model, but the compiled metrics have yet to be built. `model.compile_metrics` will be empty until you train or evaluate the model.\n"
     ]
    },
    {
     "data": {
      "text/html": [
       "<pre style=\"white-space:pre;overflow-x:auto;line-height:normal;font-family:Menlo,'DejaVu Sans Mono',consolas,'Courier New',monospace\"><span style=\"font-weight: bold\">Model: \"sequential_2\"</span>\n",
       "</pre>\n"
      ],
      "text/plain": [
       "\u001b[1mModel: \"sequential_2\"\u001b[0m\n"
      ]
     },
     "metadata": {},
     "output_type": "display_data"
    },
    {
     "data": {
      "text/html": [
       "<pre style=\"white-space:pre;overflow-x:auto;line-height:normal;font-family:Menlo,'DejaVu Sans Mono',consolas,'Courier New',monospace\">┏━━━━━━━━━━━━━━━━━━━━━━━━━━━━━━━━━┳━━━━━━━━━━━━━━━━━━━━━━━━┳━━━━━━━━━━━━━━━┓\n",
       "┃<span style=\"font-weight: bold\"> Layer (type)                    </span>┃<span style=\"font-weight: bold\"> Output Shape           </span>┃<span style=\"font-weight: bold\">       Param # </span>┃\n",
       "┡━━━━━━━━━━━━━━━━━━━━━━━━━━━━━━━━━╇━━━━━━━━━━━━━━━━━━━━━━━━╇━━━━━━━━━━━━━━━┩\n",
       "│ dense_12 (<span style=\"color: #0087ff; text-decoration-color: #0087ff\">Dense</span>)                │ (<span style=\"color: #00d7ff; text-decoration-color: #00d7ff\">None</span>, <span style=\"color: #00af00; text-decoration-color: #00af00\">86</span>)             │         <span style=\"color: #00af00; text-decoration-color: #00af00\">7,482</span> │\n",
       "├─────────────────────────────────┼────────────────────────┼───────────────┤\n",
       "│ dense_13 (<span style=\"color: #0087ff; text-decoration-color: #0087ff\">Dense</span>)                │ (<span style=\"color: #00d7ff; text-decoration-color: #00d7ff\">None</span>, <span style=\"color: #00af00; text-decoration-color: #00af00\">1024</span>)           │        <span style=\"color: #00af00; text-decoration-color: #00af00\">89,088</span> │\n",
       "├─────────────────────────────────┼────────────────────────┼───────────────┤\n",
       "│ dropout_6 (<span style=\"color: #0087ff; text-decoration-color: #0087ff\">Dropout</span>)             │ (<span style=\"color: #00d7ff; text-decoration-color: #00d7ff\">None</span>, <span style=\"color: #00af00; text-decoration-color: #00af00\">1024</span>)           │             <span style=\"color: #00af00; text-decoration-color: #00af00\">0</span> │\n",
       "├─────────────────────────────────┼────────────────────────┼───────────────┤\n",
       "│ dense_14 (<span style=\"color: #0087ff; text-decoration-color: #0087ff\">Dense</span>)                │ (<span style=\"color: #00d7ff; text-decoration-color: #00d7ff\">None</span>, <span style=\"color: #00af00; text-decoration-color: #00af00\">512</span>)            │       <span style=\"color: #00af00; text-decoration-color: #00af00\">524,800</span> │\n",
       "├─────────────────────────────────┼────────────────────────┼───────────────┤\n",
       "│ dropout_7 (<span style=\"color: #0087ff; text-decoration-color: #0087ff\">Dropout</span>)             │ (<span style=\"color: #00d7ff; text-decoration-color: #00d7ff\">None</span>, <span style=\"color: #00af00; text-decoration-color: #00af00\">512</span>)            │             <span style=\"color: #00af00; text-decoration-color: #00af00\">0</span> │\n",
       "├─────────────────────────────────┼────────────────────────┼───────────────┤\n",
       "│ dense_15 (<span style=\"color: #0087ff; text-decoration-color: #0087ff\">Dense</span>)                │ (<span style=\"color: #00d7ff; text-decoration-color: #00d7ff\">None</span>, <span style=\"color: #00af00; text-decoration-color: #00af00\">128</span>)            │        <span style=\"color: #00af00; text-decoration-color: #00af00\">65,664</span> │\n",
       "├─────────────────────────────────┼────────────────────────┼───────────────┤\n",
       "│ dropout_8 (<span style=\"color: #0087ff; text-decoration-color: #0087ff\">Dropout</span>)             │ (<span style=\"color: #00d7ff; text-decoration-color: #00d7ff\">None</span>, <span style=\"color: #00af00; text-decoration-color: #00af00\">128</span>)            │             <span style=\"color: #00af00; text-decoration-color: #00af00\">0</span> │\n",
       "├─────────────────────────────────┼────────────────────────┼───────────────┤\n",
       "│ dense_16 (<span style=\"color: #0087ff; text-decoration-color: #0087ff\">Dense</span>)                │ (<span style=\"color: #00d7ff; text-decoration-color: #00d7ff\">None</span>, <span style=\"color: #00af00; text-decoration-color: #00af00\">64</span>)             │         <span style=\"color: #00af00; text-decoration-color: #00af00\">8,256</span> │\n",
       "├─────────────────────────────────┼────────────────────────┼───────────────┤\n",
       "│ dense_17 (<span style=\"color: #0087ff; text-decoration-color: #0087ff\">Dense</span>)                │ (<span style=\"color: #00d7ff; text-decoration-color: #00d7ff\">None</span>, <span style=\"color: #00af00; text-decoration-color: #00af00\">12</span>)             │           <span style=\"color: #00af00; text-decoration-color: #00af00\">780</span> │\n",
       "└─────────────────────────────────┴────────────────────────┴───────────────┘\n",
       "</pre>\n"
      ],
      "text/plain": [
       "┏━━━━━━━━━━━━━━━━━━━━━━━━━━━━━━━━━┳━━━━━━━━━━━━━━━━━━━━━━━━┳━━━━━━━━━━━━━━━┓\n",
       "┃\u001b[1m \u001b[0m\u001b[1mLayer (type)                   \u001b[0m\u001b[1m \u001b[0m┃\u001b[1m \u001b[0m\u001b[1mOutput Shape          \u001b[0m\u001b[1m \u001b[0m┃\u001b[1m \u001b[0m\u001b[1m      Param #\u001b[0m\u001b[1m \u001b[0m┃\n",
       "┡━━━━━━━━━━━━━━━━━━━━━━━━━━━━━━━━━╇━━━━━━━━━━━━━━━━━━━━━━━━╇━━━━━━━━━━━━━━━┩\n",
       "│ dense_12 (\u001b[38;5;33mDense\u001b[0m)                │ (\u001b[38;5;45mNone\u001b[0m, \u001b[38;5;34m86\u001b[0m)             │         \u001b[38;5;34m7,482\u001b[0m │\n",
       "├─────────────────────────────────┼────────────────────────┼───────────────┤\n",
       "│ dense_13 (\u001b[38;5;33mDense\u001b[0m)                │ (\u001b[38;5;45mNone\u001b[0m, \u001b[38;5;34m1024\u001b[0m)           │        \u001b[38;5;34m89,088\u001b[0m │\n",
       "├─────────────────────────────────┼────────────────────────┼───────────────┤\n",
       "│ dropout_6 (\u001b[38;5;33mDropout\u001b[0m)             │ (\u001b[38;5;45mNone\u001b[0m, \u001b[38;5;34m1024\u001b[0m)           │             \u001b[38;5;34m0\u001b[0m │\n",
       "├─────────────────────────────────┼────────────────────────┼───────────────┤\n",
       "│ dense_14 (\u001b[38;5;33mDense\u001b[0m)                │ (\u001b[38;5;45mNone\u001b[0m, \u001b[38;5;34m512\u001b[0m)            │       \u001b[38;5;34m524,800\u001b[0m │\n",
       "├─────────────────────────────────┼────────────────────────┼───────────────┤\n",
       "│ dropout_7 (\u001b[38;5;33mDropout\u001b[0m)             │ (\u001b[38;5;45mNone\u001b[0m, \u001b[38;5;34m512\u001b[0m)            │             \u001b[38;5;34m0\u001b[0m │\n",
       "├─────────────────────────────────┼────────────────────────┼───────────────┤\n",
       "│ dense_15 (\u001b[38;5;33mDense\u001b[0m)                │ (\u001b[38;5;45mNone\u001b[0m, \u001b[38;5;34m128\u001b[0m)            │        \u001b[38;5;34m65,664\u001b[0m │\n",
       "├─────────────────────────────────┼────────────────────────┼───────────────┤\n",
       "│ dropout_8 (\u001b[38;5;33mDropout\u001b[0m)             │ (\u001b[38;5;45mNone\u001b[0m, \u001b[38;5;34m128\u001b[0m)            │             \u001b[38;5;34m0\u001b[0m │\n",
       "├─────────────────────────────────┼────────────────────────┼───────────────┤\n",
       "│ dense_16 (\u001b[38;5;33mDense\u001b[0m)                │ (\u001b[38;5;45mNone\u001b[0m, \u001b[38;5;34m64\u001b[0m)             │         \u001b[38;5;34m8,256\u001b[0m │\n",
       "├─────────────────────────────────┼────────────────────────┼───────────────┤\n",
       "│ dense_17 (\u001b[38;5;33mDense\u001b[0m)                │ (\u001b[38;5;45mNone\u001b[0m, \u001b[38;5;34m12\u001b[0m)             │           \u001b[38;5;34m780\u001b[0m │\n",
       "└─────────────────────────────────┴────────────────────────┴───────────────┘\n"
      ]
     },
     "metadata": {},
     "output_type": "display_data"
    },
    {
     "data": {
      "text/html": [
       "<pre style=\"white-space:pre;overflow-x:auto;line-height:normal;font-family:Menlo,'DejaVu Sans Mono',consolas,'Courier New',monospace\"><span style=\"font-weight: bold\"> Total params: </span><span style=\"color: #00af00; text-decoration-color: #00af00\">696,072</span> (2.66 MB)\n",
       "</pre>\n"
      ],
      "text/plain": [
       "\u001b[1m Total params: \u001b[0m\u001b[38;5;34m696,072\u001b[0m (2.66 MB)\n"
      ]
     },
     "metadata": {},
     "output_type": "display_data"
    },
    {
     "data": {
      "text/html": [
       "<pre style=\"white-space:pre;overflow-x:auto;line-height:normal;font-family:Menlo,'DejaVu Sans Mono',consolas,'Courier New',monospace\"><span style=\"font-weight: bold\"> Trainable params: </span><span style=\"color: #00af00; text-decoration-color: #00af00\">696,070</span> (2.66 MB)\n",
       "</pre>\n"
      ],
      "text/plain": [
       "\u001b[1m Trainable params: \u001b[0m\u001b[38;5;34m696,070\u001b[0m (2.66 MB)\n"
      ]
     },
     "metadata": {},
     "output_type": "display_data"
    },
    {
     "data": {
      "text/html": [
       "<pre style=\"white-space:pre;overflow-x:auto;line-height:normal;font-family:Menlo,'DejaVu Sans Mono',consolas,'Courier New',monospace\"><span style=\"font-weight: bold\"> Non-trainable params: </span><span style=\"color: #00af00; text-decoration-color: #00af00\">0</span> (0.00 B)\n",
       "</pre>\n"
      ],
      "text/plain": [
       "\u001b[1m Non-trainable params: \u001b[0m\u001b[38;5;34m0\u001b[0m (0.00 B)\n"
      ]
     },
     "metadata": {},
     "output_type": "display_data"
    },
    {
     "data": {
      "text/html": [
       "<pre style=\"white-space:pre;overflow-x:auto;line-height:normal;font-family:Menlo,'DejaVu Sans Mono',consolas,'Courier New',monospace\"><span style=\"font-weight: bold\"> Optimizer params: </span><span style=\"color: #00af00; text-decoration-color: #00af00\">2</span> (12.00 B)\n",
       "</pre>\n"
      ],
      "text/plain": [
       "\u001b[1m Optimizer params: \u001b[0m\u001b[38;5;34m2\u001b[0m (12.00 B)\n"
      ]
     },
     "metadata": {},
     "output_type": "display_data"
    }
   ],
   "source": [
    "model = tf.keras.models.load_model('dog_model.h5')\n",
    "model.summary() # Model summary"
   ]
  },
  {
   "cell_type": "code",
   "execution_count": 18,
   "metadata": {
    "id": "ZqQ09osKuHXx"
   },
   "outputs": [
    {
     "name": "stdout",
     "output_type": "stream",
     "text": [
      "Epoch 1/50\n"
     ]
    },
    {
     "name": "stderr",
     "output_type": "stream",
     "text": [
      "c:\\Users\\USER\\AppData\\Local\\Programs\\Python\\Python310\\lib\\site-packages\\keras\\src\\layers\\core\\dense.py:87: UserWarning: Do not pass an `input_shape`/`input_dim` argument to a layer. When using Sequential models, prefer using an `Input(shape)` object as the first layer in the model instead.\n",
      "  super().__init__(activity_regularizer=activity_regularizer, **kwargs)\n"
     ]
    },
    {
     "name": "stdout",
     "output_type": "stream",
     "text": [
      "\u001b[1m24/24\u001b[0m \u001b[32m━━━━━━━━━━━━━━━━━━━━\u001b[0m\u001b[37m\u001b[0m \u001b[1m2s\u001b[0m 26ms/step - accuracy: 0.2026 - loss: 2.4575 - val_accuracy: 0.6733 - val_loss: 2.3175\n",
      "Epoch 2/50\n",
      "\u001b[1m24/24\u001b[0m \u001b[32m━━━━━━━━━━━━━━━━━━━━\u001b[0m\u001b[37m\u001b[0m \u001b[1m0s\u001b[0m 17ms/step - accuracy: 0.5285 - loss: 2.2689 - val_accuracy: 0.8523 - val_loss: 1.8652\n",
      "Epoch 3/50\n",
      "\u001b[1m24/24\u001b[0m \u001b[32m━━━━━━━━━━━━━━━━━━━━\u001b[0m\u001b[37m\u001b[0m \u001b[1m0s\u001b[0m 17ms/step - accuracy: 0.7429 - loss: 1.7658 - val_accuracy: 0.9681 - val_loss: 0.9841\n",
      "Epoch 4/50\n",
      "\u001b[1m24/24\u001b[0m \u001b[32m━━━━━━━━━━━━━━━━━━━━\u001b[0m\u001b[37m\u001b[0m \u001b[1m0s\u001b[0m 17ms/step - accuracy: 0.9063 - loss: 0.9282 - val_accuracy: 0.9910 - val_loss: 0.2994\n",
      "Epoch 5/50\n",
      "\u001b[1m24/24\u001b[0m \u001b[32m━━━━━━━━━━━━━━━━━━━━\u001b[0m\u001b[37m\u001b[0m \u001b[1m0s\u001b[0m 18ms/step - accuracy: 0.9570 - loss: 0.3621 - val_accuracy: 0.9954 - val_loss: 0.1019\n",
      "Epoch 6/50\n",
      "\u001b[1m24/24\u001b[0m \u001b[32m━━━━━━━━━━━━━━━━━━━━\u001b[0m\u001b[37m\u001b[0m \u001b[1m0s\u001b[0m 17ms/step - accuracy: 0.9769 - loss: 0.1623 - val_accuracy: 0.9973 - val_loss: 0.0516\n",
      "Epoch 7/50\n",
      "\u001b[1m24/24\u001b[0m \u001b[32m━━━━━━━━━━━━━━━━━━━━\u001b[0m\u001b[37m\u001b[0m \u001b[1m0s\u001b[0m 18ms/step - accuracy: 0.9867 - loss: 0.0981 - val_accuracy: 0.9971 - val_loss: 0.0315\n",
      "Epoch 8/50\n",
      "\u001b[1m24/24\u001b[0m \u001b[32m━━━━━━━━━━━━━━━━━━━━\u001b[0m\u001b[37m\u001b[0m \u001b[1m0s\u001b[0m 17ms/step - accuracy: 0.9895 - loss: 0.0688 - val_accuracy: 0.9977 - val_loss: 0.0219\n",
      "Epoch 9/50\n",
      "\u001b[1m24/24\u001b[0m \u001b[32m━━━━━━━━━━━━━━━━━━━━\u001b[0m\u001b[37m\u001b[0m \u001b[1m0s\u001b[0m 17ms/step - accuracy: 0.9911 - loss: 0.0528 - val_accuracy: 0.9977 - val_loss: 0.0169\n",
      "Epoch 10/50\n",
      "\u001b[1m24/24\u001b[0m \u001b[32m━━━━━━━━━━━━━━━━━━━━\u001b[0m\u001b[37m\u001b[0m \u001b[1m0s\u001b[0m 17ms/step - accuracy: 0.9944 - loss: 0.0408 - val_accuracy: 0.9977 - val_loss: 0.0141\n",
      "Epoch 11/50\n",
      "\u001b[1m24/24\u001b[0m \u001b[32m━━━━━━━━━━━━━━━━━━━━\u001b[0m\u001b[37m\u001b[0m \u001b[1m0s\u001b[0m 17ms/step - accuracy: 0.9940 - loss: 0.0361 - val_accuracy: 0.9981 - val_loss: 0.0119\n",
      "Epoch 12/50\n",
      "\u001b[1m24/24\u001b[0m \u001b[32m━━━━━━━━━━━━━━━━━━━━\u001b[0m\u001b[37m\u001b[0m \u001b[1m0s\u001b[0m 17ms/step - accuracy: 0.9956 - loss: 0.0290 - val_accuracy: 0.9981 - val_loss: 0.0102\n",
      "Epoch 13/50\n",
      "\u001b[1m24/24\u001b[0m \u001b[32m━━━━━━━━━━━━━━━━━━━━\u001b[0m\u001b[37m\u001b[0m \u001b[1m0s\u001b[0m 17ms/step - accuracy: 0.9966 - loss: 0.0237 - val_accuracy: 0.9979 - val_loss: 0.0089\n",
      "Epoch 14/50\n",
      "\u001b[1m24/24\u001b[0m \u001b[32m━━━━━━━━━━━━━━━━━━━━\u001b[0m\u001b[37m\u001b[0m \u001b[1m0s\u001b[0m 17ms/step - accuracy: 0.9961 - loss: 0.0209 - val_accuracy: 0.9981 - val_loss: 0.0082\n",
      "Epoch 15/50\n",
      "\u001b[1m24/24\u001b[0m \u001b[32m━━━━━━━━━━━━━━━━━━━━\u001b[0m\u001b[37m\u001b[0m \u001b[1m0s\u001b[0m 17ms/step - accuracy: 0.9966 - loss: 0.0181 - val_accuracy: 0.9983 - val_loss: 0.0077\n",
      "Epoch 16/50\n",
      "\u001b[1m24/24\u001b[0m \u001b[32m━━━━━━━━━━━━━━━━━━━━\u001b[0m\u001b[37m\u001b[0m \u001b[1m0s\u001b[0m 17ms/step - accuracy: 0.9975 - loss: 0.0165 - val_accuracy: 0.9983 - val_loss: 0.0073\n",
      "Epoch 17/50\n",
      "\u001b[1m24/24\u001b[0m \u001b[32m━━━━━━━━━━━━━━━━━━━━\u001b[0m\u001b[37m\u001b[0m \u001b[1m0s\u001b[0m 17ms/step - accuracy: 0.9975 - loss: 0.0141 - val_accuracy: 0.9981 - val_loss: 0.0064\n",
      "Epoch 18/50\n",
      "\u001b[1m24/24\u001b[0m \u001b[32m━━━━━━━━━━━━━━━━━━━━\u001b[0m\u001b[37m\u001b[0m \u001b[1m0s\u001b[0m 17ms/step - accuracy: 0.9974 - loss: 0.0134 - val_accuracy: 0.9983 - val_loss: 0.0060\n",
      "Epoch 19/50\n",
      "\u001b[1m24/24\u001b[0m \u001b[32m━━━━━━━━━━━━━━━━━━━━\u001b[0m\u001b[37m\u001b[0m \u001b[1m0s\u001b[0m 17ms/step - accuracy: 0.9974 - loss: 0.0149 - val_accuracy: 0.9985 - val_loss: 0.0063\n",
      "Epoch 20/50\n",
      "\u001b[1m24/24\u001b[0m \u001b[32m━━━━━━━━━━━━━━━━━━━━\u001b[0m\u001b[37m\u001b[0m \u001b[1m0s\u001b[0m 17ms/step - accuracy: 0.9965 - loss: 0.0136 - val_accuracy: 0.9977 - val_loss: 0.0060\n",
      "Epoch 21/50\n",
      "\u001b[1m24/24\u001b[0m \u001b[32m━━━━━━━━━━━━━━━━━━━━\u001b[0m\u001b[37m\u001b[0m \u001b[1m0s\u001b[0m 17ms/step - accuracy: 0.9983 - loss: 0.0103 - val_accuracy: 0.9985 - val_loss: 0.0053\n",
      "Epoch 22/50\n",
      "\u001b[1m24/24\u001b[0m \u001b[32m━━━━━━━━━━━━━━━━━━━━\u001b[0m\u001b[37m\u001b[0m \u001b[1m0s\u001b[0m 17ms/step - accuracy: 0.9973 - loss: 0.0109 - val_accuracy: 0.9981 - val_loss: 0.0054\n",
      "Epoch 23/50\n",
      "\u001b[1m24/24\u001b[0m \u001b[32m━━━━━━━━━━━━━━━━━━━━\u001b[0m\u001b[37m\u001b[0m \u001b[1m0s\u001b[0m 17ms/step - accuracy: 0.9976 - loss: 0.0106 - val_accuracy: 0.9981 - val_loss: 0.0050\n",
      "Epoch 24/50\n",
      "\u001b[1m24/24\u001b[0m \u001b[32m━━━━━━━━━━━━━━━━━━━━\u001b[0m\u001b[37m\u001b[0m \u001b[1m0s\u001b[0m 17ms/step - accuracy: 0.9976 - loss: 0.0103 - val_accuracy: 0.9981 - val_loss: 0.0053\n",
      "Epoch 25/50\n",
      "\u001b[1m24/24\u001b[0m \u001b[32m━━━━━━━━━━━━━━━━━━━━\u001b[0m\u001b[37m\u001b[0m \u001b[1m0s\u001b[0m 17ms/step - accuracy: 0.9979 - loss: 0.0088 - val_accuracy: 0.9979 - val_loss: 0.0051\n",
      "Epoch 26/50\n",
      "\u001b[1m24/24\u001b[0m \u001b[32m━━━━━━━━━━━━━━━━━━━━\u001b[0m\u001b[37m\u001b[0m \u001b[1m0s\u001b[0m 17ms/step - accuracy: 0.9980 - loss: 0.0089 - val_accuracy: 0.9979 - val_loss: 0.0051\n",
      "Epoch 27/50\n",
      "\u001b[1m24/24\u001b[0m \u001b[32m━━━━━━━━━━━━━━━━━━━━\u001b[0m\u001b[37m\u001b[0m \u001b[1m0s\u001b[0m 17ms/step - accuracy: 0.9979 - loss: 0.0090 - val_accuracy: 0.9983 - val_loss: 0.0048\n",
      "Epoch 28/50\n",
      "\u001b[1m24/24\u001b[0m \u001b[32m━━━━━━━━━━━━━━━━━━━━\u001b[0m\u001b[37m\u001b[0m \u001b[1m0s\u001b[0m 17ms/step - accuracy: 0.9978 - loss: 0.0083 - val_accuracy: 0.9981 - val_loss: 0.0048\n",
      "Epoch 29/50\n",
      "\u001b[1m21/24\u001b[0m \u001b[32m━━━━━━━━━━━━━━━━━\u001b[0m\u001b[37m━━━\u001b[0m \u001b[1m0s\u001b[0m 13ms/step - accuracy: 0.9976 - loss: 0.0082\n",
      "Reached 99% accuracy, so cancelling training!\n",
      "\u001b[1m24/24\u001b[0m \u001b[32m━━━━━━━━━━━━━━━━━━━━\u001b[0m\u001b[37m\u001b[0m \u001b[1m0s\u001b[0m 17ms/step - accuracy: 0.9977 - loss: 0.0081 - val_accuracy: 0.9983 - val_loss: 0.0046\n"
     ]
    },
    {
     "name": "stderr",
     "output_type": "stream",
     "text": [
      "WARNING:absl:You are saving your model as an HDF5 file via `model.save()` or `keras.saving.save_model(model)`. This file format is considered legacy. We recommend using instead the native Keras format, e.g. `model.save('my_model.keras')` or `keras.saving.save_model(model, 'my_model.keras')`. \n"
     ]
    }
   ],
   "source": [
    "# Model training\n",
    "hist = dog_model(X_train, y_train)"
   ]
  },
  {
   "cell_type": "code",
   "execution_count": 12,
   "metadata": {
    "colab": {
     "base_uri": "https://localhost:8080/",
     "height": 927
    },
    "id": "rjxYcvsbzXCT",
    "outputId": "2abd0ffd-ce86-4d50-f736-dd4c0f6bef6a"
   },
   "outputs": [
    {
     "data": {
      "image/png": "[encoded data removed]",
      "text/plain": [
       "<Figure size 640x480 with 1 Axes>"
      ]
     },
     "metadata": {},
     "output_type": "display_data"
    },
    {
     "data": {
      "image/png": "[encoded data removed]",
      "text/plain": [
       "<Figure size 640x480 with 1 Axes>"
      ]
     },
     "metadata": {},
     "output_type": "display_data"
    }
   ],
   "source": [
    "# Obtain training history\n",
    "train_loss = hist.history['loss']\n",
    "val_loss = hist.history['val_loss']\n",
    "train_acc = hist.history['accuracy']\n",
    "val_acc = hist.history['val_accuracy']\n",
    "\n",
    "# Draw loss plot\n",
    "plt.plot(train_loss, label='Training Loss')\n",
    "plt.plot(val_loss, label='Validation Loss')\n",
    "plt.xlabel('Epoch')\n",
    "plt.ylabel('Loss')\n",
    "plt.legend()\n",
    "plt.title('Loss')\n",
    "plt.show()\n",
    "\n",
    "# Draw accuracy plot\n",
    "plt.plot(train_acc, label='Training Accuracy')\n",
    "plt.plot(val_acc, label='Validation Accuracy')\n",
    "plt.xlabel('Epoch')\n",
    "plt.ylabel('Accuracy')\n",
    "plt.legend()\n",
    "plt.title('Accuracy')\n",
    "plt.show()"
   ]
  },
  {
   "cell_type": "code",
   "execution_count": 20,
   "metadata": {
    "colab": {
     "base_uri": "https://localhost:8080/"
    },
    "id": "zaLyL3r9Et0S",
    "outputId": "16f79a00-7d72-47c0-9b4a-591d1899d12c"
   },
   "outputs": [
    {
     "name": "stdout",
     "output_type": "stream",
     "text": [
      "\u001b[1m150/150\u001b[0m \u001b[32m━━━━━━━━━━━━━━━━━━━━\u001b[0m\u001b[37m\u001b[0m \u001b[1m0s\u001b[0m 1ms/step\n",
      "[[3.08150129e-06 9.99924064e-01 2.72456163e-07 ... 4.73770623e-09\n",
      "  1.67942962e-05 1.70720810e-07]\n",
      " [1.50844216e-11 2.56001175e-11 2.81571140e-08 ... 9.99997854e-01\n",
      "  6.48366583e-10 3.71673394e-07]\n",
      " [1.56651900e-08 3.17993880e-08 1.01120565e-06 ... 8.24475535e-07\n",
      "  7.85121870e-08 6.03945239e-07]\n",
      " ...\n",
      " [1.46198443e-06 9.99995947e-01 1.11088816e-07 ... 1.52936366e-12\n",
      "  3.41692726e-07 9.56968324e-11]\n",
      " [2.29046918e-06 9.99977708e-01 7.09757586e-08 ... 1.73195208e-10\n",
      "  1.58553155e-06 5.24646460e-09]\n",
      " [4.03188051e-06 2.05736101e-12 1.27002096e-07 ... 1.21887133e-05\n",
      "  2.64918683e-08 3.57441650e-08]]\n"
     ]
    }
   ],
   "source": [
    "# Model prediction\n",
    "\n",
    "y_pred = model.predict(X_test)\n",
    "\n",
    "print(y_pred)"
   ]
  },
  {
   "cell_type": "markdown",
   "metadata": {
    "id": "e5uftEyCEz0F"
   },
   "source": [
    "# Model Evaluation"
   ]
  },
  {
   "cell_type": "code",
   "execution_count": 21,
   "metadata": {
    "id": "DbyPVuXUExvy"
   },
   "outputs": [],
   "source": [
    "y_pred_classes = np.argmax(y_pred, axis=1) # return class prediction with the highest probability"
   ]
  },
  {
   "cell_type": "code",
   "execution_count": 22,
   "metadata": {
    "colab": {
     "base_uri": "https://localhost:8080/"
    },
    "id": "ZljUH0cQE7Bv",
    "outputId": "77bd457d-4139-49a8-fff5-a10ed0888bbf"
   },
   "outputs": [
    {
     "data": {
      "text/plain": [
       "array([[0., 1., 0., ..., 0., 0., 0.],\n",
       "       [0., 0., 0., ..., 1., 0., 0.],\n",
       "       [0., 0., 0., ..., 0., 0., 0.],\n",
       "       ...,\n",
       "       [0., 1., 0., ..., 0., 0., 0.],\n",
       "       [0., 1., 0., ..., 0., 0., 0.],\n",
       "       [0., 0., 0., ..., 0., 0., 0.]])"
      ]
     },
     "execution_count": 22,
     "metadata": {},
     "output_type": "execute_result"
    }
   ],
   "source": [
    "# convert y_test format from data frame to numpy\n",
    "y_test_nump = y_test.to_numpy()\n",
    "y_test_nump"
   ]
  },
  {
   "cell_type": "code",
   "execution_count": 23,
   "metadata": {
    "id": "wZrpvcRzE9vh"
   },
   "outputs": [],
   "source": [
    "# convert y_pred_classes to One Hot Encoding, because in order to calculating f1_score, recall, and precision\n",
    "# y_test and y_pred_classes should be in the same format (either one hot encoding or label encoding)\n",
    "y_pred_ohe = keras.utils.to_categorical(y_pred_classes)"
   ]
  },
  {
   "cell_type": "code",
   "execution_count": 24,
   "metadata": {
    "colab": {
     "base_uri": "https://localhost:8080/"
    },
    "id": "xg2MH6K-FBk1",
    "outputId": "9fe46b35-9029-4da7-89d1-65492041aafe"
   },
   "outputs": [
    {
     "name": "stdout",
     "output_type": "stream",
     "text": [
      "              precision    recall  f1-score   support\n",
      "\n",
      "           0       0.99      0.99      0.99       365\n",
      "           1       1.00      1.00      1.00       447\n",
      "           2       1.00      1.00      1.00       398\n",
      "           3       1.00      1.00      1.00       385\n",
      "           4       1.00      1.00      1.00       396\n",
      "           5       1.00      1.00      1.00       400\n",
      "           6       1.00      1.00      1.00       406\n",
      "           7       1.00      1.00      1.00       382\n",
      "           8       1.00      1.00      1.00       412\n",
      "           9       1.00      1.00      1.00       407\n",
      "          10       0.99      0.99      0.99       392\n",
      "          11       1.00      1.00      1.00       410\n",
      "\n",
      "   micro avg       1.00      1.00      1.00      4800\n",
      "   macro avg       1.00      1.00      1.00      4800\n",
      "weighted avg       1.00      1.00      1.00      4800\n",
      " samples avg       1.00      1.00      1.00      4800\n",
      "\n",
      "F1-score% = 99.83342071177267 | Accuracy% = 99.83333333333333 Recall% = 99.83333333333333 | Precision% = 99.83361499240259\n"
     ]
    }
   ],
   "source": [
    "# precision, recall, and f1-score in each classes\n",
    "print(classification_report(y_true=y_test_nump, y_pred=y_pred_ohe))\n",
    "print('F1-score% =', f1_score(y_test_nump, y_pred_ohe, average='weighted')*100, '|',\n",
    "      'Accuracy% =', accuracy_score(y_test_nump, y_pred_ohe)*100,\n",
    "      'Recall% =', recall_score(y_test_nump, y_pred_ohe, average='weighted')*100, '|',\n",
    "      'Precision% =', precision_score(y_test_nump, y_pred_ohe, average='weighted')*100)"
   ]
  },
  {
   "cell_type": "code",
   "execution_count": 25,
   "metadata": {
    "colab": {
     "base_uri": "https://localhost:8080/",
     "height": 640
    },
    "id": "KtHbGLilFFCc",
    "outputId": "3cd3b8f7-1ab3-4089-a9b8-3f507926c314"
   },
   "outputs": [
    {
     "name": "stdout",
     "output_type": "stream",
     "text": [
      "F1-score% = 99.83342071177267 | Accuracy% = 99.83333333333333 | Recall% = 99.83333333333333 | Precision% = 99.83361499240259\n"
     ]
    },
    {
     "data": {
      "text/plain": [
       "<Axes: >"
      ]
     },
     "execution_count": 25,
     "metadata": {},
     "output_type": "execute_result"
    },
    {
     "data": {
      "image/png": "[encoded data removed]",
      "text/plain": [
       "<Figure size 640x480 with 2 Axes>"
      ]
     },
     "metadata": {},
     "output_type": "display_data"
    }
   ],
   "source": [
    "conf_mat = confusion_matrix(y_test_nump.argmax(axis=1), y_pred_ohe.argmax(axis=1))\n",
    "df_cm = pd.DataFrame(conf_mat, index=df['Disease'].unique(), columns=df['Disease'].unique())\n",
    "print('F1-score% =', f1_score(y_test_nump, y_pred_ohe, average='weighted')*100, '|',\n",
    "      'Accuracy% =', accuracy_score(y_test_nump, y_pred_ohe)*100, '|',\n",
    "      'Recall% =', recall_score(y_test_nump, y_pred_ohe, average='weighted')*100, '|',\n",
    "      'Precision% =', precision_score(y_test_nump, y_pred_ohe, average='weighted')*100\n",
    "      )\n",
    "sns.heatmap(df_cm)"
   ]
  },
  {
   "cell_type": "code",
   "execution_count": 26,
   "metadata": {
    "colab": {
     "base_uri": "https://localhost:8080/",
     "height": 699
    },
    "id": "uQ-0H3VeFFKF",
    "outputId": "6da6eb5a-eaa1-47a0-b7ba-eba350aafba7"
   },
   "outputs": [
    {
     "data": {
      "image/png": "[encoded data removed]",
      "text/plain": [
       "<Figure size 750x750 with 1 Axes>"
      ]
     },
     "metadata": {},
     "output_type": "display_data"
    }
   ],
   "source": [
    "conf_matrix = metrics.confusion_matrix(y_test_nump.argmax(axis=1), y_pred_ohe.argmax(axis=1))\n",
    "\n",
    "fig, ax = plt.subplots(figsize=(7.5, 7.5))\n",
    "ax.matshow(conf_matrix, cmap=plt.cm.Blues, alpha=0.3)\n",
    "for i in range(conf_matrix.shape[0]):\n",
    "    for j in range(conf_matrix.shape[1]):\n",
    "        ax.text(x=j, y=i,s=conf_matrix[i, j], va='center', ha='center', size='xx-large')\n",
    " \n",
    "plt.xlabel('Predictions', fontsize=18)\n",
    "plt.ylabel('Actuals', fontsize=18)\n",
    "plt.title('Confusion Matrix of ANN Model', fontsize=18)\n",
    "plt.show()"
   ]
  },
  {
   "cell_type": "code",
   "execution_count": 27,
   "metadata": {
    "id": "X0MbCsJQFKTh"
   },
   "outputs": [
    {
     "name": "stderr",
     "output_type": "stream",
     "text": [
      "WARNING:absl:You are saving your model as an HDF5 file via `model.save()` or `keras.saving.save_model(model)`. This file format is considered legacy. We recommend using instead the native Keras format, e.g. `model.save('my_model.keras')` or `keras.saving.save_model(model, 'my_model.keras')`. \n"
     ]
    }
   ],
   "source": [
    "# Save Model in .h5 format\n",
    "\n",
    "from keras.models import save_model\n",
    "\n",
    "model.save('dogModel.h5')"
   ]
  },
  {
   "cell_type": "code",
   "execution_count": 28,
   "metadata": {},
   "outputs": [
    {
     "data": {
      "text/html": [
       "<pre style=\"white-space:pre;overflow-x:auto;line-height:normal;font-family:Menlo,'DejaVu Sans Mono',consolas,'Courier New',monospace\"><span style=\"font-weight: bold\">Model: \"sequential_2\"</span>\n",
       "</pre>\n"
      ],
      "text/plain": [
       "\u001b[1mModel: \"sequential_2\"\u001b[0m\n"
      ]
     },
     "metadata": {},
     "output_type": "display_data"
    },
    {
     "data": {
      "text/html": [
       "<pre style=\"white-space:pre;overflow-x:auto;line-height:normal;font-family:Menlo,'DejaVu Sans Mono',consolas,'Courier New',monospace\">┏━━━━━━━━━━━━━━━━━━━━━━━━━━━━━━━━━┳━━━━━━━━━━━━━━━━━━━━━━━━┳━━━━━━━━━━━━━━━┓\n",
       "┃<span style=\"font-weight: bold\"> Layer (type)                    </span>┃<span style=\"font-weight: bold\"> Output Shape           </span>┃<span style=\"font-weight: bold\">       Param # </span>┃\n",
       "┡━━━━━━━━━━━━━━━━━━━━━━━━━━━━━━━━━╇━━━━━━━━━━━━━━━━━━━━━━━━╇━━━━━━━━━━━━━━━┩\n",
       "│ dense_12 (<span style=\"color: #0087ff; text-decoration-color: #0087ff\">Dense</span>)                │ (<span style=\"color: #00d7ff; text-decoration-color: #00d7ff\">None</span>, <span style=\"color: #00af00; text-decoration-color: #00af00\">86</span>)             │         <span style=\"color: #00af00; text-decoration-color: #00af00\">7,482</span> │\n",
       "├─────────────────────────────────┼────────────────────────┼───────────────┤\n",
       "│ dense_13 (<span style=\"color: #0087ff; text-decoration-color: #0087ff\">Dense</span>)                │ (<span style=\"color: #00d7ff; text-decoration-color: #00d7ff\">None</span>, <span style=\"color: #00af00; text-decoration-color: #00af00\">1024</span>)           │        <span style=\"color: #00af00; text-decoration-color: #00af00\">89,088</span> │\n",
       "├─────────────────────────────────┼────────────────────────┼───────────────┤\n",
       "│ dropout_6 (<span style=\"color: #0087ff; text-decoration-color: #0087ff\">Dropout</span>)             │ (<span style=\"color: #00d7ff; text-decoration-color: #00d7ff\">None</span>, <span style=\"color: #00af00; text-decoration-color: #00af00\">1024</span>)           │             <span style=\"color: #00af00; text-decoration-color: #00af00\">0</span> │\n",
       "├─────────────────────────────────┼────────────────────────┼───────────────┤\n",
       "│ dense_14 (<span style=\"color: #0087ff; text-decoration-color: #0087ff\">Dense</span>)                │ (<span style=\"color: #00d7ff; text-decoration-color: #00d7ff\">None</span>, <span style=\"color: #00af00; text-decoration-color: #00af00\">512</span>)            │       <span style=\"color: #00af00; text-decoration-color: #00af00\">524,800</span> │\n",
       "├─────────────────────────────────┼────────────────────────┼───────────────┤\n",
       "│ dropout_7 (<span style=\"color: #0087ff; text-decoration-color: #0087ff\">Dropout</span>)             │ (<span style=\"color: #00d7ff; text-decoration-color: #00d7ff\">None</span>, <span style=\"color: #00af00; text-decoration-color: #00af00\">512</span>)            │             <span style=\"color: #00af00; text-decoration-color: #00af00\">0</span> │\n",
       "├─────────────────────────────────┼────────────────────────┼───────────────┤\n",
       "│ dense_15 (<span style=\"color: #0087ff; text-decoration-color: #0087ff\">Dense</span>)                │ (<span style=\"color: #00d7ff; text-decoration-color: #00d7ff\">None</span>, <span style=\"color: #00af00; text-decoration-color: #00af00\">128</span>)            │        <span style=\"color: #00af00; text-decoration-color: #00af00\">65,664</span> │\n",
       "├─────────────────────────────────┼────────────────────────┼───────────────┤\n",
       "│ dropout_8 (<span style=\"color: #0087ff; text-decoration-color: #0087ff\">Dropout</span>)             │ (<span style=\"color: #00d7ff; text-decoration-color: #00d7ff\">None</span>, <span style=\"color: #00af00; text-decoration-color: #00af00\">128</span>)            │             <span style=\"color: #00af00; text-decoration-color: #00af00\">0</span> │\n",
       "├─────────────────────────────────┼────────────────────────┼───────────────┤\n",
       "│ dense_16 (<span style=\"color: #0087ff; text-decoration-color: #0087ff\">Dense</span>)                │ (<span style=\"color: #00d7ff; text-decoration-color: #00d7ff\">None</span>, <span style=\"color: #00af00; text-decoration-color: #00af00\">64</span>)             │         <span style=\"color: #00af00; text-decoration-color: #00af00\">8,256</span> │\n",
       "├─────────────────────────────────┼────────────────────────┼───────────────┤\n",
       "│ dense_17 (<span style=\"color: #0087ff; text-decoration-color: #0087ff\">Dense</span>)                │ (<span style=\"color: #00d7ff; text-decoration-color: #00d7ff\">None</span>, <span style=\"color: #00af00; text-decoration-color: #00af00\">12</span>)             │           <span style=\"color: #00af00; text-decoration-color: #00af00\">780</span> │\n",
       "└─────────────────────────────────┴────────────────────────┴───────────────┘\n",
       "</pre>\n"
      ],
      "text/plain": [
       "┏━━━━━━━━━━━━━━━━━━━━━━━━━━━━━━━━━┳━━━━━━━━━━━━━━━━━━━━━━━━┳━━━━━━━━━━━━━━━┓\n",
       "┃\u001b[1m \u001b[0m\u001b[1mLayer (type)                   \u001b[0m\u001b[1m \u001b[0m┃\u001b[1m \u001b[0m\u001b[1mOutput Shape          \u001b[0m\u001b[1m \u001b[0m┃\u001b[1m \u001b[0m\u001b[1m      Param #\u001b[0m\u001b[1m \u001b[0m┃\n",
       "┡━━━━━━━━━━━━━━━━━━━━━━━━━━━━━━━━━╇━━━━━━━━━━━━━━━━━━━━━━━━╇━━━━━━━━━━━━━━━┩\n",
       "│ dense_12 (\u001b[38;5;33mDense\u001b[0m)                │ (\u001b[38;5;45mNone\u001b[0m, \u001b[38;5;34m86\u001b[0m)             │         \u001b[38;5;34m7,482\u001b[0m │\n",
       "├─────────────────────────────────┼────────────────────────┼───────────────┤\n",
       "│ dense_13 (\u001b[38;5;33mDense\u001b[0m)                │ (\u001b[38;5;45mNone\u001b[0m, \u001b[38;5;34m1024\u001b[0m)           │        \u001b[38;5;34m89,088\u001b[0m │\n",
       "├─────────────────────────────────┼────────────────────────┼───────────────┤\n",
       "│ dropout_6 (\u001b[38;5;33mDropout\u001b[0m)             │ (\u001b[38;5;45mNone\u001b[0m, \u001b[38;5;34m1024\u001b[0m)           │             \u001b[38;5;34m0\u001b[0m │\n",
       "├─────────────────────────────────┼────────────────────────┼───────────────┤\n",
       "│ dense_14 (\u001b[38;5;33mDense\u001b[0m)                │ (\u001b[38;5;45mNone\u001b[0m, \u001b[38;5;34m512\u001b[0m)            │       \u001b[38;5;34m524,800\u001b[0m │\n",
       "├─────────────────────────────────┼────────────────────────┼───────────────┤\n",
       "│ dropout_7 (\u001b[38;5;33mDropout\u001b[0m)             │ (\u001b[38;5;45mNone\u001b[0m, \u001b[38;5;34m512\u001b[0m)            │             \u001b[38;5;34m0\u001b[0m │\n",
       "├─────────────────────────────────┼────────────────────────┼───────────────┤\n",
       "│ dense_15 (\u001b[38;5;33mDense\u001b[0m)                │ (\u001b[38;5;45mNone\u001b[0m, \u001b[38;5;34m128\u001b[0m)            │        \u001b[38;5;34m65,664\u001b[0m │\n",
       "├─────────────────────────────────┼────────────────────────┼───────────────┤\n",
       "│ dropout_8 (\u001b[38;5;33mDropout\u001b[0m)             │ (\u001b[38;5;45mNone\u001b[0m, \u001b[38;5;34m128\u001b[0m)            │             \u001b[38;5;34m0\u001b[0m │\n",
       "├─────────────────────────────────┼────────────────────────┼───────────────┤\n",
       "│ dense_16 (\u001b[38;5;33mDense\u001b[0m)                │ (\u001b[38;5;45mNone\u001b[0m, \u001b[38;5;34m64\u001b[0m)             │         \u001b[38;5;34m8,256\u001b[0m │\n",
       "├─────────────────────────────────┼────────────────────────┼───────────────┤\n",
       "│ dense_17 (\u001b[38;5;33mDense\u001b[0m)                │ (\u001b[38;5;45mNone\u001b[0m, \u001b[38;5;34m12\u001b[0m)             │           \u001b[38;5;34m780\u001b[0m │\n",
       "└─────────────────────────────────┴────────────────────────┴───────────────┘\n"
      ]
     },
     "metadata": {},
     "output_type": "display_data"
    },
    {
     "data": {
      "text/html": [
       "<pre style=\"white-space:pre;overflow-x:auto;line-height:normal;font-family:Menlo,'DejaVu Sans Mono',consolas,'Courier New',monospace\"><span style=\"font-weight: bold\"> Total params: </span><span style=\"color: #00af00; text-decoration-color: #00af00\">696,072</span> (2.66 MB)\n",
       "</pre>\n"
      ],
      "text/plain": [
       "\u001b[1m Total params: \u001b[0m\u001b[38;5;34m696,072\u001b[0m (2.66 MB)\n"
      ]
     },
     "metadata": {},
     "output_type": "display_data"
    },
    {
     "data": {
      "text/html": [
       "<pre style=\"white-space:pre;overflow-x:auto;line-height:normal;font-family:Menlo,'DejaVu Sans Mono',consolas,'Courier New',monospace\"><span style=\"font-weight: bold\"> Trainable params: </span><span style=\"color: #00af00; text-decoration-color: #00af00\">696,070</span> (2.66 MB)\n",
       "</pre>\n"
      ],
      "text/plain": [
       "\u001b[1m Trainable params: \u001b[0m\u001b[38;5;34m696,070\u001b[0m (2.66 MB)\n"
      ]
     },
     "metadata": {},
     "output_type": "display_data"
    },
    {
     "data": {
      "text/html": [
       "<pre style=\"white-space:pre;overflow-x:auto;line-height:normal;font-family:Menlo,'DejaVu Sans Mono',consolas,'Courier New',monospace\"><span style=\"font-weight: bold\"> Non-trainable params: </span><span style=\"color: #00af00; text-decoration-color: #00af00\">0</span> (0.00 B)\n",
       "</pre>\n"
      ],
      "text/plain": [
       "\u001b[1m Non-trainable params: \u001b[0m\u001b[38;5;34m0\u001b[0m (0.00 B)\n"
      ]
     },
     "metadata": {},
     "output_type": "display_data"
    },
    {
     "data": {
      "text/html": [
       "<pre style=\"white-space:pre;overflow-x:auto;line-height:normal;font-family:Menlo,'DejaVu Sans Mono',consolas,'Courier New',monospace\"><span style=\"font-weight: bold\"> Optimizer params: </span><span style=\"color: #00af00; text-decoration-color: #00af00\">2</span> (12.00 B)\n",
       "</pre>\n"
      ],
      "text/plain": [
       "\u001b[1m Optimizer params: \u001b[0m\u001b[38;5;34m2\u001b[0m (12.00 B)\n"
      ]
     },
     "metadata": {},
     "output_type": "display_data"
    }
   ],
   "source": [
    "model.summary()"
   ]
  },
  {
   "cell_type": "code",
   "execution_count": 31,
   "metadata": {},
   "outputs": [
    {
     "name": "stderr",
     "output_type": "stream",
     "text": [
      "WARNING:absl:Compiled the loaded model, but the compiled metrics have yet to be built. `model.compile_metrics` will be empty until you train or evaluate the model.\n"
     ]
    }
   ],
   "source": [
    "model = tf.keras.models.load_model('dog_model.h5')\n"
   ]
  },
  {
   "cell_type": "code",
   "execution_count": null,
   "metadata": {},
   "outputs": [
    {
     "name": "stdout",
     "output_type": "stream",
     "text": [
      "['Fever', 'Nasal Discharge', 'Loss of appetite', 'Weight Loss', 'Lameness', 'Breathing Difficulty', 'Swollen Lymph nodes', 'Lethargy', 'Depression', 'Coughing', 'Diarrhea', 'Seizures', 'Vomiting', 'Eating less than usual', 'Excessive Salivation', 'Redness around Eye area', 'Severe Dehydration', 'Pain', 'Discomfort', 'Sepsis', 'WeightLoss', 'Tender abdomen', 'Increased drinking and urination', 'Bloated Stomach', 'Yellow gums', 'Constipation', 'Paralysis', 'Wrinkled forehead', 'Continuously erect and stiff ears', 'Grinning appearance', 'Stiff and hard tail', 'Stiffness of muscles', 'Acute blindness', 'Blood in urine', 'Hunger', 'Cataracts', 'Losing sight', 'Glucose in urine', 'Burping', 'blood in stools', 'Passing gases', 'Eating grass', 'Scratching', 'Licking', 'Itchy skin', 'Redness of skin', 'Face rubbing', 'Loss of Fur', 'Swelling of gum', 'Redness of gum', 'Receding gum', 'Bleeding of gum', 'Plaque', 'Bad breath', 'Tartar', 'Lumps', 'Swelling', 'Red bumps', 'Scabs', 'Irritation', 'Dry Skin', 'Fur loss', 'Red patches', 'Heart Complication', 'Weakness', 'Aggression', 'Pale gums', 'Coma', 'Collapse', 'Abdominal pain', 'Difficulty Urinating', 'Dandruff', 'Anorexia', 'Blindness', 'excess jaw tone', 'Urine infection', 'Lack of energy', 'Smelly', 'Neurological Disorders', 'Eye Discharge', 'Loss of Consciousness', 'Enlarged Liver', 'lethargy', 'Purging', 'Bloody discharge', 'Wounds']\n"
     ]
    }
   ],
   "source": [
    "X_drop = X\n",
    "columnLabel = X_drop.columns.tolist()\n",
    "print(columnLabel)\n",
    "\n"
   ]
  },
  {
   "cell_type": "code",
   "execution_count": null,
   "metadata": {},
   "outputs": [],
   "source": [
    "predict = model.predict(X_drop)\n",
    "print(predict)"
   ]
  },
  {
   "cell_type": "code",
   "execution_count": null,
   "metadata": {},
   "outputs": [
    {
     "name": "stderr",
     "output_type": "stream",
     "text": [
      "WARNING:absl:Compiled the loaded model, but the compiled metrics have yet to be built. `model.compile_metrics` will be empty until you train or evaluate the model.\n"
     ]
    },
    {
     "name": "stdout",
     "output_type": "stream",
     "text": [
      "\u001b[1m1/1\u001b[0m \u001b[32m━━━━━━━━━━━━━━━━━━━━\u001b[0m\u001b[37m\u001b[0m \u001b[1m0s\u001b[0m 61ms/step\n",
      "[[0.23335814 0.00917979 0.01749893 0.64962745 0.01633532 0.00490836\n",
      "  0.04038145 0.00154512 0.01486048 0.00283749 0.003461   0.00600644]]\n",
      "   Tick fever  Distemper  Parvovirus  Hepatitis   Tetanus  \\\n",
      "0    0.233358    0.00918    0.017499   0.649627  0.016335   \n",
      "\n",
      "   Chronic kidney Disease  Diabetes  Gastrointestinal Disease  Allergies  \\\n",
      "0                0.004908  0.040381                  0.001545    0.01486   \n",
      "\n",
      "   Gingitivis   Cancers  Skin Rashes  \n",
      "0    0.002837  0.003461     0.006006  \n"
     ]
    },
    {
     "name": "stderr",
     "output_type": "stream",
     "text": [
      "C:\\Users\\USER\\AppData\\Local\\Temp\\ipykernel_10592\\24463291.py:19: FutureWarning: The behavior of DataFrame concatenation with empty or all-NA entries is deprecated. In a future version, this will no longer exclude empty or all-NA columns when determining the result dtypes. To retain the old behavior, exclude the relevant entries before the concat operation.\n",
      "  Y_drop = pd.concat([Y_drop, new_row_y], ignore_index=True)\n"
     ]
    }
   ],
   "source": [
    "model = tf.keras.models.load_model('dog_model.h5')\n",
    "\n",
    "df = pd.read_csv('../dataset/pre_processed.csv')\n",
    "data = df.drop(['Unnamed: 0', 'Disease'], axis=1) # drop unused columns\n",
    "X = data.drop(['Tick fever', 'Distemper', 'Parvovirus',\n",
    "       'Hepatitis', 'Tetanus', 'Chronic kidney Disease', 'Diabetes',\n",
    "       'Gastrointestinal Disease', 'Allergies', 'Gingitivis', 'Cancers',\n",
    "       'Skin Rashes'], axis=1)\n",
    "y = data[['Tick fever', 'Distemper', 'Parvovirus',\n",
    "       'Hepatitis', 'Tetanus', 'Chronic kidney Disease', 'Diabetes',\n",
    "       'Gastrointestinal Disease', 'Allergies', 'Gingitivis', 'Cancers',\n",
    "       'Skin Rashes']]\n",
    "X_drop = X.iloc[0:0] # Create an empty DataFrame with the same columns as X\n",
    "Y_drop = y.iloc[0:0] # Create an empty DataFrame with the same columns as y\n",
    "\n",
    "# Change the input to your input\n",
    "input_labels = ['Fever', 'Loss of appetite']\n",
    "\n",
    "new_row_x = {col: 1 if col in input_labels else 0 for col in X_drop.columns.tolist()}\n",
    "new_row_df = pd.DataFrame([new_row_x])\n",
    "X_drop = pd.concat([X_drop, new_row_df], ignore_index=True)\n",
    "\n",
    "predict = model.predict(X_drop)\n",
    "\n",
    "new_row_y = pd.DataFrame(predict, columns=Y_drop.columns)\n",
    "Y_drop = pd.concat([Y_drop, new_row_y], ignore_index=True)\n",
    "\n",
    "print(Y_drop)\n"
   ]
  }
 ],
 "metadata": {
  "colab": {
   "provenance": []
  },
  "kernelspec": {
   "display_name": "Python 3",
   "language": "python",
   "name": "python3"
  },
  "language_info": {
   "codemirror_mode": {
    "name": "ipython",
    "version": 3
   },
   "file_extension": ".py",
   "mimetype": "text/x-python",
   "name": "python",
   "nbconvert_exporter": "python",
   "pygments_lexer": "ipython3",
   "version": "3.10.0"
  }
 },
 "nbformat": 4,
 "nbformat_minor": 1
}
